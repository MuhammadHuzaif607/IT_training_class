{
  "nbformat": 4,
  "nbformat_minor": 0,
  "metadata": {
    "colab": {
      "provenance": []
    },
    "kernelspec": {
      "name": "python3",
      "display_name": "Python 3"
    },
    "language_info": {
      "name": "python"
    }
  },
  "cells": [
    {
      "cell_type": "markdown",
      "source": [
        "Automated File Management and Data Export System"
      ],
      "metadata": {
        "id": "EsVyYagsojda"
      }
    },
    {
      "cell_type": "code",
      "source": [
        "import os\n",
        "import glob\n",
        "import shutil\n",
        "import pandas as pd\n",
        "import yfinance as yf\n",
        "import sqlite3\n",
        "import time\n",
        "import requests\n",
        "from bs4 import BeautifulSoup\n",
        "\n",
        "\n",
        "# Automated File Management and Data Export System\n",
        "\n",
        "# Move all CSV files to a backup folder\n",
        "csv_files = glob.glob(\"*.csv\")\n",
        "for file in csv_files:\n",
        "    shutil.move(file, \"backup_folder/\")\n",
        "    print(f\"Moved file: {file}\")\n",
        "\n",
        "\n",
        "\n",
        "#  Automating Export\n",
        "def export_data(df, filename, format):\n",
        "    if format == \"csv\":\n",
        "        df.to_csv(filename, index=False)\n",
        "        print(f\"Data exported to {filename} in CSV format.\")\n",
        "    elif format == \"json\":\n",
        "        df.to_json(filename, orient=\"records\")\n",
        "        print(f\"Data exported to {filename} in JSON format.\")\n",
        "    else:\n",
        "        print(\"Unsupported format.\")\n",
        "\n",
        "\n",
        "\n",
        "# Example usage:\n",
        "# Creating a sample dataframe\n",
        "data = {'Name': ['Alice', 'Bob', 'Charlie'],\n",
        "'Age': [25, 30, 35],\n",
        "'City': ['New York', 'Los Angeles', 'Chicago']}\n",
        "df = pd.DataFrame(data)\n",
        "# Exporting to CSV\n",
        "export_data(df, \"output.csv\", \"csv\")\n",
        "# Exporting to JSON\n",
        "export_data(df, \"output.json\", \"json\")"
      ],
      "metadata": {
        "colab": {
          "base_uri": "https://localhost:8080/"
        },
        "id": "nHzyk7M1otyX",
        "outputId": "0cf14f68-da8a-4f86-dee7-b720c8715deb"
      },
      "execution_count": 2,
      "outputs": [
        {
          "output_type": "stream",
          "name": "stdout",
          "text": [
            "Data exported to output.csv in CSV format.\n",
            "Data exported to output.json in JSON format.\n"
          ]
        }
      ]
    },
    {
      "cell_type": "markdown",
      "source": [
        "Real-Time Stock Market Data Collection and Analysis Using Python and SQLite"
      ],
      "metadata": {
        "id": "8PAiOvRzpGtZ"
      }
    },
    {
      "cell_type": "code",
      "source": [
        "# Database setup\n",
        "db_name = \"stocks.db\"\n",
        "conn = sqlite3.connect(db_name)\n",
        "cursor = conn.cursor()\n",
        "cursor.execute('''CREATE TABLE IF NOT EXISTS stock_data (\n",
        "id INTEGER PRIMARY KEY AUTOINCREMENT,\n",
        "symbol TEXT,\n",
        "timestamp DATETIME DEFAULT CURRENT_TIMESTAMP,\n",
        "open REAL,\n",
        "high REAL,\n",
        "low REAL,\n",
        "close REAL,\n",
        "volume INTEGER)''')\n",
        "conn.commit()\n",
        "\n",
        "\n",
        "\n",
        "# Function to fetch stock data\n",
        "def fetch_stock_data(symbol):\n",
        "    try:\n",
        "        stock = yf.Ticker(symbol)\n",
        "        data = stock.history(period=\"1d\", interval=\"1m\")\n",
        "        if data.empty:\n",
        "            print(f\"No data found for {symbol}. Skipping...\")\n",
        "            return None # Return None if no data is available\n",
        "\n",
        "\n",
        "        latest = data.iloc[-1] # Get the most recent price data\n",
        "        return {\n",
        "        \"symbol\": symbol,\n",
        "        \"open\": latest[\"Open\"],\n",
        "        \"high\": latest[\"High\"],\n",
        "        \"low\": latest[\"Low\"],\n",
        "        \"close\": latest[\"Close\"],\n",
        "        \"volume\": latest[\"Volume\"]\n",
        "        }\n",
        "    except Exception as e:\n",
        "        print(f\"Error fetching data for {symbol}: {e}\")\n",
        "        return None\n",
        "\n",
        "\n",
        "\n",
        "# Function to store data in SQLite\n",
        "def store_data(symbol):\n",
        "    stock_data = fetch_stock_data(symbol)\n",
        "    if stock_data: # Only store if data is available\n",
        "        cursor.execute('''INSERT INTO stock_data (symbol, open, high, low,\n",
        "        close, volume)\n",
        "        VALUES (?, ?, ?, ?, ?, ?)''',(stock_data[\"symbol\"], stock_data[\"open\"], stock_data[\"high\"], stock_data[\"low\"], stock_data[\"close\"], stock_data[\"volume\"]))\n",
        "    conn.commit()\n",
        "    print(f\"Stored data for {symbol}\")\n",
        "\n",
        "\n",
        "\n",
        "# Function to analyze stock data\n",
        "def analyze_stock(symbol):\n",
        "    df = pd.read_sql_query(\"SELECT * FROM stock_data WHERE symbol=? ORDER BY timestamp DESC LIMIT 100\", conn, params=(symbol,))\n",
        "    print(df)\n",
        "\n",
        "\n",
        "\n",
        "# Example Usage\n",
        "symbol = \"GOOGL\" # Google stock\n",
        "for _ in range(5): # Fetch data 5 times with intervals\n",
        "    store_data(symbol)\n",
        "    time.sleep(60) # Wait for 1 minute before fetching again\n",
        "\n",
        "\n",
        "analyze_stock(symbol)\n",
        "# Close database connection\n",
        "conn.close()"
      ],
      "metadata": {
        "colab": {
          "base_uri": "https://localhost:8080/"
        },
        "id": "mrtW6YErpEeF",
        "outputId": "54c08bec-e60c-4467-db84-9c66aa4d8e5f"
      },
      "execution_count": 3,
      "outputs": [
        {
          "output_type": "stream",
          "name": "stdout",
          "text": [
            "Stored data for GOOGL\n",
            "Stored data for GOOGL\n",
            "Stored data for GOOGL\n",
            "Stored data for GOOGL\n",
            "Stored data for GOOGL\n",
            "   id symbol            timestamp        open        high         low  \\\n",
            "0   5  GOOGL  2025-02-25 05:50:42  179.289993  179.350006  179.050003   \n",
            "1   4  GOOGL  2025-02-25 05:49:42  179.289993  179.350006  179.050003   \n",
            "2   3  GOOGL  2025-02-25 05:48:42  179.289993  179.350006  179.050003   \n",
            "3   2  GOOGL  2025-02-25 05:47:42  179.289993  179.350006  179.050003   \n",
            "4   1  GOOGL  2025-02-25 05:46:42  179.289993  179.350006  179.050003   \n",
            "\n",
            "        close  volume  \n",
            "0  179.300003  703084  \n",
            "1  179.300003  703084  \n",
            "2  179.300003  703084  \n",
            "3  179.300003  703084  \n",
            "4  179.300003  703084  \n"
          ]
        }
      ]
    },
    {
      "cell_type": "markdown",
      "source": [
        "Augmented Reality Transformation – Perform linear algebra operations like scaling, rotation, and translation.\n"
      ],
      "metadata": {
        "id": "EoDfC8yNqXj1"
      }
    },
    {
      "cell_type": "code",
      "source": [
        "URL = \"http://books.toscrape.com/\"\n",
        "HEADERS = {\"User-Agent\": \"Mozilla/5.0\"}\n",
        "\n",
        "\n",
        "def get_books(url):\n",
        "    response = requests.get(url, headers=HEADERS)\n",
        "    soup = BeautifulSoup(response.text, \"html.parser\")\n",
        "    books = soup.find_all(\"article\", class_=\"product_pod\")\n",
        "    book_list = []\n",
        "    for book in books:\n",
        "        title = book.h3.a[\"title\"]\n",
        "        price = book.find(\"p\", class_=\"price_color\").text\n",
        "        stock = book.find(\"p\", class_=\"instock availability\").text.strip()\n",
        "        book_list.append({\"Title\": title, \"Price\": price, \"Availability\":\n",
        "        stock})\n",
        "    return book_list\n",
        "\n",
        "\n",
        "\n",
        "books_data = get_books(URL)\n",
        "df = pd.DataFrame(books_data)\n",
        "df.to_csv(\"books.csv\", index=False)\n",
        "print(\"Data saved to books.csv\")"
      ],
      "metadata": {
        "colab": {
          "base_uri": "https://localhost:8080/"
        },
        "id": "GKgt4gldqaqv",
        "outputId": "e0d15ad7-1254-4cc9-9459-8013077a1500"
      },
      "execution_count": 4,
      "outputs": [
        {
          "output_type": "stream",
          "name": "stdout",
          "text": [
            "Data saved to books.csv\n"
          ]
        }
      ]
    }
  ]
}