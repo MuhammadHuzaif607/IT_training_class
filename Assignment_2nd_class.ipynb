{
  "nbformat": 4,
  "nbformat_minor": 0,
  "metadata": {
    "colab": {
      "provenance": []
    },
    "kernelspec": {
      "name": "python3",
      "display_name": "Python 3"
    },
    "language_info": {
      "name": "python"
    }
  },
  "cells": [
    {
      "cell_type": "code",
      "execution_count": null,
      "metadata": {
        "id": "E7kvCRXlX5Ny"
      },
      "outputs": [],
      "source": []
    },
    {
      "cell_type": "markdown",
      "source": [
        "Name Formatter and Length Calculator"
      ],
      "metadata": {
        "id": "5hrltdVlYciJ"
      }
    },
    {
      "cell_type": "code",
      "source": [
        "first_name = input(\" Enter your first name\")\n",
        "last_name = input(\" Enter your last name\")\n",
        "print(first_name + ' ' +  last_name)"
      ],
      "metadata": {
        "colab": {
          "base_uri": "https://localhost:8080/"
        },
        "id": "c1WmSBeCYeHj",
        "outputId": "c32ffe63-3bbe-4283-8a7a-a96b2670f82a"
      },
      "execution_count": 7,
      "outputs": [
        {
          "output_type": "stream",
          "name": "stdout",
          "text": [
            " Enter your first nameMuhammad\n",
            " Enter your last nameHuzaif\n",
            "Muhammad Huzaif\n"
          ]
        }
      ]
    },
    {
      "cell_type": "markdown",
      "source": [
        "Convert first name to uppercase and last name to lowercase"
      ],
      "metadata": {
        "id": "qtIbY0osZHVk"
      }
    },
    {
      "cell_type": "code",
      "source": [
        "first_name = (\"Muhammad\").upper()\n",
        "last_name = (\"Huzaif\").lower()\n",
        "print(first_name + ' ' +  last_name)\n"
      ],
      "metadata": {
        "colab": {
          "base_uri": "https://localhost:8080/"
        },
        "id": "a8e2a1D3ZISn",
        "outputId": "dbfaea13-3077-4cc1-9519-c88ebfc5b6d4"
      },
      "execution_count": 10,
      "outputs": [
        {
          "output_type": "stream",
          "name": "stdout",
          "text": [
            "MUHAMMAD huzaif\n"
          ]
        }
      ]
    },
    {
      "cell_type": "markdown",
      "source": [
        "Calculate and print the sum of the letters"
      ],
      "metadata": {
        "id": "V6hmFsAhb0UL"
      }
    },
    {
      "cell_type": "code",
      "source": [
        "total_letters = len(first_name) + len(last_name)\n",
        "print(total_letters)\n"
      ],
      "metadata": {
        "colab": {
          "base_uri": "https://localhost:8080/"
        },
        "id": "wTNLpXJ4blec",
        "outputId": "2fe9a6ac-c4d9-48e7-82e6-af757be26d00"
      },
      "execution_count": 12,
      "outputs": [
        {
          "output_type": "stream",
          "name": "stdout",
          "text": [
            "14\n"
          ]
        }
      ]
    },
    {
      "cell_type": "markdown",
      "source": [
        " Print the first name in uppercase, last name in lowercase, and the total letters\n"
      ],
      "metadata": {
        "id": "Srsun7ywcXZC"
      }
    },
    {
      "cell_type": "code",
      "source": [
        "print(f\"First name (upper): {first_name}\")\n",
        "print(f\"Last name (lower): {last_name}\")\n",
        "print(\"Sum of letters in your first and last name:\", total_letters)\n"
      ],
      "metadata": {
        "colab": {
          "base_uri": "https://localhost:8080/"
        },
        "id": "_md--RbccUzU",
        "outputId": "86454120-24d4-4a37-c172-d4ebec91bd3d"
      },
      "execution_count": 13,
      "outputs": [
        {
          "output_type": "stream",
          "name": "stdout",
          "text": [
            "First name (upper): MUHAMMAD\n",
            "Last name (lower): huzaif\n",
            "Sum of letters in your first and last name: 14\n"
          ]
        }
      ]
    },
    {
      "cell_type": "markdown",
      "source": [
        "Simple Area Calculator for various shape"
      ],
      "metadata": {
        "id": "SM_H4pAscUik"
      }
    },
    {
      "cell_type": "code",
      "source": [
        "print(\"Calculate the area of following shapes:\")\n",
        "print(\"1. Circle\")\n",
        "print(\"2. Rectangle\")\n",
        "print(\"3. Square\")\n",
        "print(\"4. Triangle\")\n",
        "shape = input(\"Enter the shape you want to calculate the area of: \")\n",
        "print(f\"Finding the Area of {shape}:\")\n",
        "\n",
        "# Circle area calculation\n",
        "radius = float(input(\"Enter the radius of the circle: \"))\n",
        "area =  3.14 * radius**2\n",
        "print(\"The area of the circle is:\", area, \"\\n\")"
      ],
      "metadata": {
        "colab": {
          "base_uri": "https://localhost:8080/"
        },
        "id": "PxpIfMD3c3Yi",
        "outputId": "779869a2-29f9-41d2-ece4-14d367b90e6d"
      },
      "execution_count": 18,
      "outputs": [
        {
          "output_type": "stream",
          "name": "stdout",
          "text": [
            "Calculate the area of following shapes:\n",
            "1. Circle\n",
            "2. Rectangle\n",
            "3. Square\n",
            "4. Triangle\n",
            "Enter the shape you want to calculate the area of: Circle\n",
            "Finding the Area of Circle:\n",
            "Enter the radius of the circle: 10\n",
            "The area of the circle is: 314.0 \n",
            "\n"
          ]
        }
      ]
    },
    {
      "cell_type": "code",
      "source": [
        "shape = input(\"Enter the shape you want to calculate the area of: \")\n",
        "print(f\"Finding the Area of {shape}:\")\n",
        "\n",
        "# Rectangle area calculation\n",
        "length = float(input(\"Enter the length of rectangle: \"))\n",
        "width = float(input(\"Enter the width of rectangle: \"))\n",
        "area = length * width\n",
        "print(\"The area of the rectangle is:\",area, \"\\n\")"
      ],
      "metadata": {
        "colab": {
          "base_uri": "https://localhost:8080/"
        },
        "id": "fytOxk7Mc-Ow",
        "outputId": "db5f7a77-6640-4980-a681-917a540c7f9e"
      },
      "execution_count": 22,
      "outputs": [
        {
          "output_type": "stream",
          "name": "stdout",
          "text": [
            "Enter the shape you want to calculate the area of: Rectangle\n",
            "Finding the Area of Rectangle:\n",
            "Enter the length of rectangle: 10\n",
            "Enter the width of rectangle: 20\n",
            "The area of the rectangle is: 200.0 \n",
            "\n"
          ]
        }
      ]
    },
    {
      "cell_type": "code",
      "source": [
        "shape = input(\"Enter the shape you want to calculate the area of: \")\n",
        "print(f\"Finding the Area of {shape}:\")\n",
        "\n",
        "# Square area calculation\n",
        "side = float(input(\"Enter the side length of the square: \"))\n",
        "area =  side**2\n",
        "print(\"The area of the square is:\", area, \"\\n\")"
      ],
      "metadata": {
        "colab": {
          "base_uri": "https://localhost:8080/"
        },
        "id": "XKM3Zr3oeOq1",
        "outputId": "367e3410-5852-40d0-ee71-618d46ec7bc7"
      },
      "execution_count": 23,
      "outputs": [
        {
          "output_type": "stream",
          "name": "stdout",
          "text": [
            "Enter the shape you want to calculate the area of: Square\n",
            "Finding the Area of Square:\n",
            "Enter the side length of the square: 34\n",
            "The area of the square is: 1156.0 \n",
            "\n"
          ]
        }
      ]
    },
    {
      "cell_type": "code",
      "source": [
        "shape = input(\"Enter the shape you want to calculate the area of: \")\n",
        "print(f\"Finding the Area of {shape}:\")\n",
        "\n",
        "# Triangle area calculation\n",
        "base = float(input(\"Enter the base of triangle: \"))\n",
        "height = float(input (\"Enter the height of triangle: \"))\n",
        "area =  0.5 * base * height\n",
        "print(\"The area of the triangle is:\", area, \"\\n\")"
      ],
      "metadata": {
        "colab": {
          "base_uri": "https://localhost:8080/"
        },
        "id": "B39AjuFWec_e",
        "outputId": "bbe19872-42c8-45a1-814a-953b787bd717"
      },
      "execution_count": 24,
      "outputs": [
        {
          "output_type": "stream",
          "name": "stdout",
          "text": [
            "Enter the shape you want to calculate the area of: Triangle\n",
            "Finding the Area of Triangle:\n",
            "Enter the base of triangle: 20\n",
            "Enter the height of triangle: 10\n",
            "The area of the triangle is: 100.0 \n",
            "\n"
          ]
        }
      ]
    },
    {
      "cell_type": "markdown",
      "source": [
        "Random Color-Based Password Generator in Python"
      ],
      "metadata": {
        "id": "8hhG0uu5enmb"
      }
    },
    {
      "cell_type": "code",
      "source": [
        "import random\n",
        "colors = ['Red','Blue','Green','White','Black','Grey']\n",
        "index = random.randint(0,len(colors)-1)\n",
        "selected_color = colors[index]\n",
        "password = selected_color[::-1]\n",
        "print(f\"The Selected Color is {selected_color}\")\n",
        "print(f\"The Password is {password}\")"
      ],
      "metadata": {
        "colab": {
          "base_uri": "https://localhost:8080/"
        },
        "id": "ry0Hmwk_es6h",
        "outputId": "93217842-34fc-4952-9db8-2376c73b1418"
      },
      "execution_count": 25,
      "outputs": [
        {
          "output_type": "stream",
          "name": "stdout",
          "text": [
            "The Selected Color is White\n",
            "The Password is etihW\n"
          ]
        }
      ]
    }
  ]
}